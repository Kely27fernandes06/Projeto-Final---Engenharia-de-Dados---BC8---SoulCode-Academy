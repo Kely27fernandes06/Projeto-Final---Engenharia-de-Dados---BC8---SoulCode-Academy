{
 "cells": [
  {
   "cell_type": "code",
   "execution_count": 1,
   "id": "307f3370",
   "metadata": {},
   "outputs": [],
   "source": [
    "import pandas as pd \n",
    "import numpy as np\n",
    "from pyspark.sql import SparkSession\n",
    "from pyspark.sql import functions\n",
    "from pyspark.sql.types import FloatType\n",
    "from cassandra.cluster import Cluster\n",
    "import matplotlib.pyplot as plt\n",
    "import seaborn as sns"
   ]
  },
  {
   "cell_type": "code",
   "execution_count": 2,
   "id": "7be11cfd",
   "metadata": {},
   "outputs": [
    {
     "name": "stderr",
     "output_type": "stream",
     "text": [
      "Setting default log level to \"WARN\".\n",
      "To adjust logging level use sc.setLogLevel(newLevel). For SparkR, use setLogLevel(newLevel).\n"
     ]
    }
   ],
   "source": [
    "caminho = \"gs://arquivos_parquet_bucket/arquivos_parquet/\"\n",
    "\n",
    "# conexao com o cassandra\n",
    "clstr = Cluster(['34.151.235.109'], port=9042)\n",
    "session = clstr.connect('projeto_final')\n",
    "\n",
    "# inicia sessão do spark\n",
    "spark = SparkSession.builder.appName(\"projeto_final\").config(\"spark.sql.caseSensitive\", \"True\").config(\"spark.sql.debug.maxToStringFields\",100).getOrCreate()\n"
   ]
  },
  {
   "cell_type": "code",
   "execution_count": 3,
   "id": "b6a694e2",
   "metadata": {},
   "outputs": [],
   "source": [
    "dados = session.execute(\"select * from geracaoDistribuida;\")\n",
    "df_geracaoDistribuida = pd.DataFrame(dados)\n",
    "#df_geracaoDistribuida.head()"
   ]
  },
  {
   "cell_type": "code",
   "execution_count": 4,
   "id": "df63dc05",
   "metadata": {},
   "outputs": [],
   "source": [
    "df_gd1 = df_geracaoDistribuida.groupby([\"anoreferencia\",\"siggeracaodistribuida\"]).sum()\n",
    "df_gd = df_geracaoDistribuida.groupby(\"anoreferencia\").sum()\n",
    "df_gd.reset_index(inplace=True)\n",
    "#df_gd.head()"
   ]
  },
  {
   "cell_type": "code",
   "execution_count": 5,
   "id": "f251d492",
   "metadata": {},
   "outputs": [
    {
     "data": {
      "image/png": "[encoded data removed]",
      "text/plain": [
       "<Figure size 720x360 with 1 Axes>"
      ]
     },
     "metadata": {
      "needs_background": "light"
     },
     "output_type": "display_data"
    }
   ],
   "source": [
    "plt.figure(figsize=(10,5))\n",
    "plt.plot(df_gd[\"anoreferencia\"], df_gd[\"qtdusina\"], linestyle='--', marker='o', color = 'blue', markersize = 4)\n",
    "plt.title(\"Quantidade de usinas criadas por ano\", fontsize=11)\n",
    "plt.xlabel(\"Ano\", fontsize=11)\n",
    "plt.ylabel(\"Usinas\", fontsize=11)\n",
    "plt.legend(['Qtd Usinas'], fontsize=9)\n",
    "plt.xticks(fontsize= 8)\n",
    "plt.yticks(fontsize= 8)\n",
    "plt.show()"
   ]
  },
  {
   "cell_type": "code",
   "execution_count": 6,
   "id": "c78e0a0b",
   "metadata": {},
   "outputs": [
    {
     "data": {
      "text/html": [
       "<div>\n",
       "<style scoped>\n",
       "    .dataframe tbody tr th:only-of-type {\n",
       "        vertical-align: middle;\n",
       "    }\n",
       "\n",
       "    .dataframe tbody tr th {\n",
       "        vertical-align: top;\n",
       "    }\n",
       "\n",
       "    .dataframe thead th {\n",
       "        text-align: right;\n",
       "    }\n",
       "</style>\n",
       "<table border=\"1\" class=\"dataframe\">\n",
       "  <thead>\n",
       "    <tr style=\"text-align: right;\">\n",
       "      <th></th>\n",
       "      <th>anoreferencia</th>\n",
       "      <th>siggeracaodistribuida</th>\n",
       "      <th>qtdusina</th>\n",
       "    </tr>\n",
       "  </thead>\n",
       "  <tbody>\n",
       "    <tr>\n",
       "      <th>0</th>\n",
       "      <td>2013</td>\n",
       "      <td>CGH</td>\n",
       "      <td>0</td>\n",
       "    </tr>\n",
       "    <tr>\n",
       "      <th>1</th>\n",
       "      <td>2013</td>\n",
       "      <td>EOL</td>\n",
       "      <td>7</td>\n",
       "    </tr>\n",
       "    <tr>\n",
       "      <th>2</th>\n",
       "      <td>2013</td>\n",
       "      <td>UFV</td>\n",
       "      <td>53</td>\n",
       "    </tr>\n",
       "    <tr>\n",
       "      <th>3</th>\n",
       "      <td>2013</td>\n",
       "      <td>UTE</td>\n",
       "      <td>0</td>\n",
       "    </tr>\n",
       "    <tr>\n",
       "      <th>4</th>\n",
       "      <td>2014</td>\n",
       "      <td>CGH</td>\n",
       "      <td>1</td>\n",
       "    </tr>\n",
       "    <tr>\n",
       "      <th>5</th>\n",
       "      <td>2014</td>\n",
       "      <td>EOL</td>\n",
       "      <td>10</td>\n",
       "    </tr>\n",
       "    <tr>\n",
       "      <th>6</th>\n",
       "      <td>2014</td>\n",
       "      <td>UFV</td>\n",
       "      <td>295</td>\n",
       "    </tr>\n",
       "    <tr>\n",
       "      <th>7</th>\n",
       "      <td>2014</td>\n",
       "      <td>UTE</td>\n",
       "      <td>2</td>\n",
       "    </tr>\n",
       "    <tr>\n",
       "      <th>8</th>\n",
       "      <td>2015</td>\n",
       "      <td>CGH</td>\n",
       "      <td>1</td>\n",
       "    </tr>\n",
       "    <tr>\n",
       "      <th>9</th>\n",
       "      <td>2015</td>\n",
       "      <td>EOL</td>\n",
       "      <td>21</td>\n",
       "    </tr>\n",
       "    <tr>\n",
       "      <th>10</th>\n",
       "      <td>2015</td>\n",
       "      <td>UFV</td>\n",
       "      <td>1447</td>\n",
       "    </tr>\n",
       "    <tr>\n",
       "      <th>11</th>\n",
       "      <td>2015</td>\n",
       "      <td>UTE</td>\n",
       "      <td>8</td>\n",
       "    </tr>\n",
       "    <tr>\n",
       "      <th>12</th>\n",
       "      <td>2016</td>\n",
       "      <td>CGH</td>\n",
       "      <td>10</td>\n",
       "    </tr>\n",
       "    <tr>\n",
       "      <th>13</th>\n",
       "      <td>2016</td>\n",
       "      <td>EOL</td>\n",
       "      <td>8</td>\n",
       "    </tr>\n",
       "    <tr>\n",
       "      <th>14</th>\n",
       "      <td>2016</td>\n",
       "      <td>UFV</td>\n",
       "      <td>6753</td>\n",
       "    </tr>\n",
       "    <tr>\n",
       "      <th>15</th>\n",
       "      <td>2016</td>\n",
       "      <td>UTE</td>\n",
       "      <td>29</td>\n",
       "    </tr>\n",
       "    <tr>\n",
       "      <th>16</th>\n",
       "      <td>2017</td>\n",
       "      <td>CGH</td>\n",
       "      <td>31</td>\n",
       "    </tr>\n",
       "    <tr>\n",
       "      <th>17</th>\n",
       "      <td>2017</td>\n",
       "      <td>EOL</td>\n",
       "      <td>7</td>\n",
       "    </tr>\n",
       "    <tr>\n",
       "      <th>18</th>\n",
       "      <td>2017</td>\n",
       "      <td>UFV</td>\n",
       "      <td>13953</td>\n",
       "    </tr>\n",
       "    <tr>\n",
       "      <th>19</th>\n",
       "      <td>2017</td>\n",
       "      <td>UTE</td>\n",
       "      <td>43</td>\n",
       "    </tr>\n",
       "    <tr>\n",
       "      <th>20</th>\n",
       "      <td>2018</td>\n",
       "      <td>CGH</td>\n",
       "      <td>27</td>\n",
       "    </tr>\n",
       "    <tr>\n",
       "      <th>21</th>\n",
       "      <td>2018</td>\n",
       "      <td>EOL</td>\n",
       "      <td>4</td>\n",
       "    </tr>\n",
       "    <tr>\n",
       "      <th>22</th>\n",
       "      <td>2018</td>\n",
       "      <td>UFV</td>\n",
       "      <td>35139</td>\n",
       "    </tr>\n",
       "    <tr>\n",
       "      <th>23</th>\n",
       "      <td>2018</td>\n",
       "      <td>UTE</td>\n",
       "      <td>68</td>\n",
       "    </tr>\n",
       "    <tr>\n",
       "      <th>24</th>\n",
       "      <td>2019</td>\n",
       "      <td>CGH</td>\n",
       "      <td>22</td>\n",
       "    </tr>\n",
       "    <tr>\n",
       "      <th>25</th>\n",
       "      <td>2019</td>\n",
       "      <td>EOL</td>\n",
       "      <td>0</td>\n",
       "    </tr>\n",
       "    <tr>\n",
       "      <th>26</th>\n",
       "      <td>2019</td>\n",
       "      <td>UFV</td>\n",
       "      <td>32917</td>\n",
       "    </tr>\n",
       "    <tr>\n",
       "      <th>27</th>\n",
       "      <td>2019</td>\n",
       "      <td>UTE</td>\n",
       "      <td>19</td>\n",
       "    </tr>\n",
       "  </tbody>\n",
       "</table>\n",
       "</div>"
      ],
      "text/plain": [
       "    anoreferencia siggeracaodistribuida  qtdusina\n",
       "0            2013                   CGH         0\n",
       "1            2013                   EOL         7\n",
       "2            2013                   UFV        53\n",
       "3            2013                   UTE         0\n",
       "4            2014                   CGH         1\n",
       "5            2014                   EOL        10\n",
       "6            2014                   UFV       295\n",
       "7            2014                   UTE         2\n",
       "8            2015                   CGH         1\n",
       "9            2015                   EOL        21\n",
       "10           2015                   UFV      1447\n",
       "11           2015                   UTE         8\n",
       "12           2016                   CGH        10\n",
       "13           2016                   EOL         8\n",
       "14           2016                   UFV      6753\n",
       "15           2016                   UTE        29\n",
       "16           2017                   CGH        31\n",
       "17           2017                   EOL         7\n",
       "18           2017                   UFV     13953\n",
       "19           2017                   UTE        43\n",
       "20           2018                   CGH        27\n",
       "21           2018                   EOL         4\n",
       "22           2018                   UFV     35139\n",
       "23           2018                   UTE        68\n",
       "24           2019                   CGH        22\n",
       "25           2019                   EOL         0\n",
       "26           2019                   UFV     32917\n",
       "27           2019                   UTE        19"
      ]
     },
     "execution_count": 6,
     "metadata": {},
     "output_type": "execute_result"
    }
   ],
   "source": [
    "df_gd1 = df_geracaoDistribuida.groupby([\"anoreferencia\",\"siggeracaodistribuida\"]).sum()\n",
    "df_gd1.query(\"anoreferencia >= 2013\", inplace = True)\n",
    "df_gd1.drop(columns=[\"idegeracaodistribuida\",'mdapotenciainstaladakw','mesreferencia'], inplace = True)\n",
    "df_gd1.reset_index(inplace=True)\n",
    "df_gd1.head(50)"
   ]
  },
  {
   "cell_type": "code",
   "execution_count": 7,
   "id": "71517bda",
   "metadata": {},
   "outputs": [],
   "source": [
    "eolica = df_gd1.loc[df_gd1[\"siggeracaodistribuida\"] == 'EOL']\n",
    "fotovoltaica = df_gd1.loc[df_gd1[\"siggeracaodistribuida\"] == 'UFV']\n",
    "termoeletrica = df_gd1.loc[df_gd1[\"siggeracaodistribuida\"] == 'UTE']\n",
    "hidroeletrica = df_gd1.loc[df_gd1[\"siggeracaodistribuida\"] == 'CGH'] "
   ]
  },
  {
   "cell_type": "code",
   "execution_count": 8,
   "id": "d1566461",
   "metadata": {},
   "outputs": [
    {
     "data": {
      "text/plain": [
       "<matplotlib.legend.Legend at 0x7f4e584c7f40>"
      ]
     },
     "execution_count": 8,
     "metadata": {},
     "output_type": "execute_result"
    },
    {
     "data": {
      "image/png": "[encoded data removed]",
      "text/plain": [
       "<Figure size 792x288 with 1 Axes>"
      ]
     },
     "metadata": {
      "needs_background": "light"
     },
     "output_type": "display_data"
    }
   ],
   "source": [
    "snsplt = sns.catplot( x=\"anoreferencia\", y=\"qtdusina\", kind=\"bar\", data=df_gd1, legend=True, hue=\"siggeracaodistribuida\",hue_order=['UFV','CGH','UTE','EOL'],palette=[\"#00ad43\", \"#2a52be\", \"#d62d20\",\"#ff9f00\"])\n",
    "#plt.ylim(0,100)\n",
    "plt.yscale(\"log\")\n",
    "plt.xlabel(\"Ano\", fontsize=14)\n",
    "plt.ylabel(\"Quantidade de usinas\", fontsize=14)\n",
    "plt.title(\"Quantidade de usinas criadas por ano\", fontsize=14)\n",
    "snsplt.fig.set_size_inches(11,4)\n",
    "leg = snsplt._legend\n",
    "leg.set_frame_on(True)\n",
    "order = [3,2, 1, 0]\n",
    "handles, labels = snsplt.ax.get_legend_handles_labels()\n",
    "snsplt.ax.legend([handles[idx] for idx in order],[labels[idx] for idx in order],\n",
    "                 loc=\"upper left\", title=\"Fonte Energética\")"
   ]
  },
  {
   "cell_type": "code",
   "execution_count": 9,
   "id": "f8f9276a",
   "metadata": {},
   "outputs": [
    {
     "data": {
      "text/html": [
       "<div>\n",
       "<style scoped>\n",
       "    .dataframe tbody tr th:only-of-type {\n",
       "        vertical-align: middle;\n",
       "    }\n",
       "\n",
       "    .dataframe tbody tr th {\n",
       "        vertical-align: top;\n",
       "    }\n",
       "\n",
       "    .dataframe thead th {\n",
       "        text-align: right;\n",
       "    }\n",
       "</style>\n",
       "<table border=\"1\" class=\"dataframe\">\n",
       "  <thead>\n",
       "    <tr style=\"text-align: right;\">\n",
       "      <th></th>\n",
       "      <th>anoreferencia</th>\n",
       "      <th>siggeracaodistribuida</th>\n",
       "      <th>qtdusina</th>\n",
       "    </tr>\n",
       "  </thead>\n",
       "  <tbody>\n",
       "    <tr>\n",
       "      <th>3</th>\n",
       "      <td>2013</td>\n",
       "      <td>UTE</td>\n",
       "      <td>0</td>\n",
       "    </tr>\n",
       "    <tr>\n",
       "      <th>7</th>\n",
       "      <td>2014</td>\n",
       "      <td>UTE</td>\n",
       "      <td>2</td>\n",
       "    </tr>\n",
       "    <tr>\n",
       "      <th>11</th>\n",
       "      <td>2015</td>\n",
       "      <td>UTE</td>\n",
       "      <td>8</td>\n",
       "    </tr>\n",
       "    <tr>\n",
       "      <th>15</th>\n",
       "      <td>2016</td>\n",
       "      <td>UTE</td>\n",
       "      <td>29</td>\n",
       "    </tr>\n",
       "    <tr>\n",
       "      <th>19</th>\n",
       "      <td>2017</td>\n",
       "      <td>UTE</td>\n",
       "      <td>43</td>\n",
       "    </tr>\n",
       "    <tr>\n",
       "      <th>23</th>\n",
       "      <td>2018</td>\n",
       "      <td>UTE</td>\n",
       "      <td>68</td>\n",
       "    </tr>\n",
       "    <tr>\n",
       "      <th>27</th>\n",
       "      <td>2019</td>\n",
       "      <td>UTE</td>\n",
       "      <td>19</td>\n",
       "    </tr>\n",
       "  </tbody>\n",
       "</table>\n",
       "</div>"
      ],
      "text/plain": [
       "    anoreferencia siggeracaodistribuida  qtdusina\n",
       "3            2013                   UTE         0\n",
       "7            2014                   UTE         2\n",
       "11           2015                   UTE         8\n",
       "15           2016                   UTE        29\n",
       "19           2017                   UTE        43\n",
       "23           2018                   UTE        68\n",
       "27           2019                   UTE        19"
      ]
     },
     "execution_count": 9,
     "metadata": {},
     "output_type": "execute_result"
    }
   ],
   "source": [
    "termoeletrica.head(10)"
   ]
  },
  {
   "cell_type": "code",
   "execution_count": 10,
   "id": "a7751073",
   "metadata": {},
   "outputs": [
    {
     "data": {
      "image/png": "[encoded data removed]",
      "text/plain": [
       "<Figure size 720x360 with 1 Axes>"
      ]
     },
     "metadata": {
      "needs_background": "light"
     },
     "output_type": "display_data"
    }
   ],
   "source": [
    "plt.figure(figsize=(10,5))\n",
    "plt.yscale(\"log\")\n",
    "plt.plot(eolica[\"anoreferencia\"], eolica[\"qtdusina\"], linestyle='--', marker='o', color = \"#ff9f00\", markersize = 4)\n",
    "plt.plot(termoeletrica[\"anoreferencia\"], termoeletrica[\"qtdusina\"], linestyle='--', marker='o', color = \"#d62d20\", markersize = 4)\n",
    "plt.plot(fotovoltaica[\"anoreferencia\"], fotovoltaica[\"qtdusina\"], linestyle='--', marker='o', color = '#00ad43', markersize = 4)\n",
    "plt.plot(hidroeletrica[\"anoreferencia\"], hidroeletrica[\"qtdusina\"], linestyle='--', marker='o', color = \"#2a52be\", markersize = 4)\n",
    "plt.title(\"Quantidade de usinas criadas por ano e por tipo\", fontsize=11)\n",
    "plt.xlabel(\"Ano\", fontsize=11)\n",
    "plt.ylabel(\"Quantidade de usinas\", fontsize=11)\n",
    "plt.legend(['Eólica','Termoelétrica','Fotovoltaica','Hidroelétrica'], fontsize=9)\n",
    "plt.xticks(fontsize= 8)\n",
    "plt.yticks(fontsize= 8)\n",
    "plt.show()\n"
   ]
  },
  {
   "cell_type": "code",
   "execution_count": 11,
   "id": "4ed898d8",
   "metadata": {},
   "outputs": [
    {
     "name": "stderr",
     "output_type": "stream",
     "text": [
      "                                                                                \r"
     ]
    }
   ],
   "source": [
    "empreendimentos_gd = spark.read.parquet(caminho + \"empreendimentos_gd\")\n",
    "tarifa_residencial = spark.read.parquet(caminho + \"tarifamediaresidencial\")"
   ]
  },
  {
   "cell_type": "code",
   "execution_count": 12,
   "id": "e1e1a9e7",
   "metadata": {},
   "outputs": [
    {
     "name": "stderr",
     "output_type": "stream",
     "text": [
      "\r",
      "[Stage 2:>                                                          (0 + 1) / 1]\r"
     ]
    },
    {
     "name": "stdout",
     "output_type": "stream",
     "text": [
      "+---+--------------------+-------------------+------+--------+-------+--------------------+---+-----------+---+---+----+---+------+-------+-------+--------------+--------+---+--------------+--------------------+-----------------+-------------------+---+--------------------+---+---+--------------+------------+-----+------+------+\n",
      "|  0|                   1|                  2|     3|       4|      5|                   6|  7|          8|  9| 10|  11| 12|    13|     14|     15|            16|      17| 18|            19|                  20|               21|                 22| 23|                  24| 25| 26|            27|          28|   29|    30|    31|\n",
      "+---+--------------------+-------------------+------+--------+-------+--------------------+---+-----------+---+---+----+---+------+-------+-------+--------------+--------+---+--------------+--------------------+-----------------+-------------------+---+--------------------+---+---+--------------+------------+-----+------+------+\n",
      "|  1|Geracao Distribui...|2021-12-10 10:23:00|dez/21|      ND|     ND|                  ND|  1|Residencial|  9| B1|33.0| RJ|3304.0|Sudeste|3300209|      Araruama|28970***| PF|***.095.527-**|                 ***|GD.RJ.000.461.747|2021-04-22 00:00:00|  P|Com Microgeracao ...|  1|UFV|Radiação solar|Microgeracao|  3.0|   0.0|   0.0|\n",
      "|  2|Geracao Distribui...|2021-12-10 10:23:00|dez/21|      ND|     ND|                  ND|  1|Residencial|  9| B1|33.0| RJ|3304.0|Sudeste|3300209|      Araruama|28970***| PF|***.124.827-**|                 ***|GD.RJ.000.568.489|2021-08-17 00:00:00|  P|Com Microgeracao ...|  1|UFV|Radiação solar|Microgeracao|  2.0|   0.0|   0.0|\n",
      "|  3|Geracao Distribui...|2021-12-10 10:23:00|dez/21|      ND|     ND|                  ND|  1|Residencial|  9| B1|33.0| RJ|3304.0|Sudeste|3300209|      Araruama|28970***| PF|***.479.407-**|                 ***|GD.RJ.000.123.280|2019-10-16 00:00:00|  P|Com Microgeracao ...|  1|UFV|Radiação solar|Microgeracao|  2.0|   0.0|   0.0|\n",
      "|  4|Geracao Distribui...|2021-12-10 10:23:00|dez/21|      ND|     ND|                  ND|  1|Residencial|  9| B1|33.0| RJ|3304.0|Sudeste|3305505|     Saquarema|28980***| PF|***.044.497-**|                 ***|GD.RJ.000.053.125|2018-11-08 00:00:00|  P|Com Microgeracao ...|  1|UFV|Radiação solar|Microgeracao| 1.32|   0.0|   0.0|\n",
      "|  5|Geracao Distribui...|2021-12-10 10:23:00|dez/21|      ND|     ND|                  ND|  1|Residencial|  9| B1|33.0| RJ|3304.0|Sudeste|3305505|     Saquarema|28980***| PF|***.657.707-**|                 ***|GD.RJ.000.071.849|2019-04-26 00:00:00|  P|Com Microgeracao ...|  1|UFV|Radiação solar|Microgeracao|  2.0|   0.0|   0.0|\n",
      "|  6|Geracao Distribui...|2021-12-10 10:23:00|dez/21|      ND|     ND|                  ND|  1|Residencial|  9| B1|33.0| RJ|3304.0|Sudeste|3305505|     Saquarema|28990***| PF|***.559.437-**|                 ***|GD.RJ.000.628.633|2021-10-08 00:00:00|  P|Com Microgeracao ...|  1|UFV|Radiação solar|Microgeracao|  4.0|   0.0|   0.0|\n",
      "|  7|Geracao Distribui...|2021-12-10 10:23:00|dez/21|1,23E+12|CERGAPA|COOPERATIVA DE EL...|  2|  Comercial| 11| B3|42.0| SC|4206.0|    Sul|4206108|     Grão Pará|88890***| PF|***.691.589-**|                 ***|GD.SC.000.270.357|2020-07-09 00:00:00|  R|Caracterizada com...|  2|UFV|Radiação solar|Microgeracao| 12.0|   0.0|   0.0|\n",
      "|  8|Geracao Distribui...|2021-12-10 10:23:00|dez/21|1,23E+12|CERGAPA|COOPERATIVA DE EL...|  2|  Comercial| 11| B3|42.0| SC|4206.0|    Sul|4206108|     Grão Pará|88890000| PJ|      3,21E+12|JEF SUPERMERCADO ...|GD.SC.000.333.595|2020-08-04 00:00:00|  P|Com Microgeracao ...|  1|UFV|Radiação solar|Microgeracao| 25.0|-28.18|-49.22|\n",
      "|  9|Geracao Distribui...|2021-12-10 10:23:00|dez/21|1,23E+12|CERGAPA|COOPERATIVA DE EL...|  3|      Rural| 10| B2|42.0| SC|4206.0|    Sul|4202800|Braço do Norte|88750***| PF|***.008.389-**|                 ***|GD.SC.000.635.341|2021-09-13 00:00:00|  P|Com Microgeracao ...|  1|UFV|Radiação solar|Microgeracao|19.58|   0.0|   0.0|\n",
      "| 10|Geracao Distribui...|2021-12-10 10:23:00|dez/21|1,23E+12|CERGAPA|COOPERATIVA DE EL...|  3|      Rural| 10| B2|42.0| SC|4206.0|    Sul|4202800|Braço do Norte|88750***| PF|***.221.159-**|                 ***|GD.SC.000.344.912|2020-11-26 00:00:00|  R|Caracterizada com...|  3|UFV|Radiação solar|Microgeracao| 75.0|   0.0|   0.0|\n",
      "| 11|Geracao Distribui...|2021-12-10 10:23:00|dez/21|1,23E+12|CERGAPA|COOPERATIVA DE EL...|  3|      Rural| 10| B2|42.0| SC|4206.0|    Sul|4202800|Braço do Norte|88750***| PF|***.525.289-**|                 ***|GD.SC.000.450.066|2021-03-18 00:00:00|  P|Com Microgeracao ...|  1|UFV|Radiação solar|Microgeracao| 10.0|   0.0|   0.0|\n",
      "| 12|Geracao Distribui...|2021-12-10 10:23:00|dez/21|1,23E+12|CERGAPA|COOPERATIVA DE EL...|  3|      Rural| 10| B2|42.0| SC|4206.0|    Sul|4206108|     Grão Pará|88890***| PF|***.032.559-**|                 ***|GD.SC.000.556.521|2021-08-02 00:00:00|  P|Com Microgeracao ...|  1|UFV|Radiação solar|Microgeracao|  9.0|   0.0|   0.0|\n",
      "| 13|Geracao Distribui...|2021-12-10 10:23:00|dez/21|1,23E+12|CERGAPA|COOPERATIVA DE EL...|  3|      Rural| 10| B2|42.0| SC|4206.0|    Sul|4206108|     Grão Pará|88890***| PF|***.057.559-**|                 ***|GD.SC.000.450.219|2021-02-10 00:00:00|  P|Com Microgeracao ...|  1|UFV|Radiação solar|Microgeracao|  8.5|   0.0|   0.0|\n",
      "| 14|Geracao Distribui...|2021-12-10 10:23:00|dez/21|1,23E+12|CERGAPA|COOPERATIVA DE EL...|  3|      Rural| 10| B2|42.0| SC|4206.0|    Sul|4206108|     Grão Pará|88890***| PF|***.177.909-**|                 ***|GD.SC.000.333.585|2020-08-19 00:00:00|  P|Com Microgeracao ...|  1|UFV|Radiação solar|Microgeracao| 12.0|   0.0|   0.0|\n",
      "| 15|Geracao Distribui...|2021-12-10 10:23:00|dez/21|1,23E+12|CERGAPA|COOPERATIVA DE EL...|  3|      Rural| 10| B2|42.0| SC|4206.0|    Sul|4206108|     Grão Pará|88890***| PF|***.213.189-**|                 ***|GD.SC.000.556.644|2021-07-29 00:00:00|  C|Caracterizada com...|  2|UFV|Radiação solar|Microgeracao| 12.5|   0.0|   0.0|\n",
      "| 16|Geracao Distribui...|2021-12-10 10:23:00|dez/21|1,23E+12|CERGAPA|COOPERATIVA DE EL...|  3|      Rural| 10| B2|42.0| SC|4206.0|    Sul|4206108|     Grão Pará|88890***| PF|***.247.759-**|                 ***|GD.SC.000.398.584|2021-01-11 00:00:00|  P|Com Microgeracao ...|  1|UFV|Radiação solar|Microgeracao|19.32|   0.0|   0.0|\n",
      "| 17|Geracao Distribui...|2021-12-10 10:23:00|dez/21|1,23E+12|CERGAPA|COOPERATIVA DE EL...|  3|      Rural| 10| B2|42.0| SC|4206.0|    Sul|4206108|     Grão Pará|88890***| PF|***.337.229-**|                 ***|GD.SC.000.507.414|2021-05-04 00:00:00|  R|Caracterizada com...|  2|UFV|Radiação solar|Microgeracao|49.14|   0.0|   0.0|\n",
      "| 18|Geracao Distribui...|2021-12-10 10:23:00|dez/21|1,23E+12|CERGAPA|COOPERATIVA DE EL...|  3|      Rural| 10| B2|42.0| SC|4206.0|    Sul|4206108|     Grão Pará|88890***| PF|***.386.639-**|                 ***|GD.SC.000.363.156|2020-12-21 00:00:00|  R|Caracterizada com...|  2|UFV|Radiação solar|Microgeracao| 40.0|   0.0|   0.0|\n",
      "| 19|Geracao Distribui...|2021-12-10 10:23:00|dez/21|      ND|     ND|                  ND|  1|Residencial|  9| B1|33.0| RJ|3304.0|Sudeste|3300209|      Araruama|28970***| PF|***.279.397-**|                 ***|GD.RJ.000.357.495|2020-12-17 00:00:00|  P|Com Microgeracao ...|  1|UFV|Radiação solar|Microgeracao| 2.68|   0.0|   0.0|\n",
      "| 20|Geracao Distribui...|2021-12-10 10:23:00|dez/21|      ND|     ND|                  ND|  1|Residencial|  9| B1|33.0| RJ|3304.0|Sudeste|3300209|      Araruama|28970***| PF|***.711.737-**|                 ***|GD.RJ.000.334.424|2020-11-18 00:00:00|  P|Com Microgeracao ...|  1|UFV|Radiação solar|Microgeracao|  2.0|   0.0|   0.0|\n",
      "+---+--------------------+-------------------+------+--------+-------+--------------------+---+-----------+---+---+----+---+------+-------+-------+--------------+--------+---+--------------+--------------------+-----------------+-------------------+---+--------------------+---+---+--------------+------------+-----+------+------+\n",
      "only showing top 20 rows\n",
      "\n"
     ]
    },
    {
     "name": "stderr",
     "output_type": "stream",
     "text": [
      "\r",
      "                                                                                \r"
     ]
    }
   ],
   "source": [
    "empreendimentos_gd.show()"
   ]
  },
  {
   "cell_type": "code",
   "execution_count": 13,
   "id": "1458c115",
   "metadata": {},
   "outputs": [
    {
     "name": "stderr",
     "output_type": "stream",
     "text": [
      "                                                                                \r"
     ]
    },
    {
     "name": "stdout",
     "output_type": "stream",
     "text": [
      "+---+------------------+\n",
      "|  3|            avg(6)|\n",
      "+---+------------------+\n",
      "| NE|0.5766508333333333|\n",
      "| S |0.5450737999999999|\n",
      "| SE|0.6110436666666668|\n",
      "| N |0.6159728571428571|\n",
      "| CO|0.5727140000000001|\n",
      "+---+------------------+\n",
      "\n"
     ]
    }
   ],
   "source": [
    "tarifa_residencial_select = tarifa_residencial.select(tarifa_residencial['3'],tarifa_residencial['6'])\n",
    "tarifa_residencial_agrupado = tarifa_residencial_select.groupBy('3').mean()\n",
    "tarifa_residencial_agrupado.show()\n",
    "#media de tarifa residencial por regiao"
   ]
  },
  {
   "cell_type": "code",
   "execution_count": 14,
   "id": "0f528c73",
   "metadata": {},
   "outputs": [
    {
     "name": "stdout",
     "output_type": "stream",
     "text": [
      "+--------------------+-------+\n",
      "|                   2|      6|\n",
      "+--------------------+-------+\n",
      "|               Chesp|0.57639|\n",
      "|               Cocel|0.55712|\n",
      "|             CODESAM|0.38685|\n",
      "|              Coelba|0.55213|\n",
      "|             Coopera|0.38709|\n",
      "|       Cooperaliança| 0.4676|\n",
      "|         Coopercocal| 0.4682|\n",
      "|           Cooperluz|0.50384|\n",
      "|          Coopermila|0.50633|\n",
      "|         COOPERNORTE|0.67883|\n",
      "|           COOPERSUL| 0.5476|\n",
      "|           COOPERZEM| 0.5599|\n",
      "|             Coorsel|0.59226|\n",
      "|           Copel-DIS|0.51761|\n",
      "|              Coprel|0.57118|\n",
      "|              Cosern|0.50553|\n",
      "|       CPFL Paulista|0.52302|\n",
      "|    CPFL Piratininga|0.49018|\n",
      "|CPFL Santa Cruz (...|0.54769|\n",
      "|            Creluz-D|0.59232|\n",
      "+--------------------+-------+\n",
      "only showing top 20 rows\n",
      "\n"
     ]
    }
   ],
   "source": [
    "tarifa_residencial_select = tarifa_residencial.select(tarifa_residencial['2'],tarifa_residencial['6'])\n",
    "tarifa_residencial_select.show()"
   ]
  },
  {
   "cell_type": "code",
   "execution_count": 15,
   "id": "eecdd778",
   "metadata": {},
   "outputs": [
    {
     "name": "stderr",
     "output_type": "stream",
     "text": [
      "\r",
      "[Stage 9:============================================>              (3 + 1) / 4]\r"
     ]
    },
    {
     "name": "stdout",
     "output_type": "stream",
     "text": [
      "+-------------------+------------------+\n",
      "|                  5|           sum(29)|\n",
      "+-------------------+------------------+\n",
      "|            CEMIG-D|435889.09000000067|\n",
      "|             CERAÇÁ|343.80999999999995|\n",
      "|             CELG-D|164602.76000000004|\n",
      "|                RGE|           6607.83|\n",
      "|              CERON| 46989.71999999998|\n",
      "|             CERTEL| 5147.690000000003|\n",
      "|                AME|20940.700000000037|\n",
      "|             EDP ES|43459.209999999934|\n",
      "|    CPFL Santa Cruz|147.10999999999996|\n",
      "|         MUXENERGIA|            709.23|\n",
      "|              DCELT|2210.7299999999996|\n",
      "|              CERCI| 649.3300000000003|\n",
      "|CPFL Leste Paulista|             30.13|\n",
      "|            CERILUZ|            132.93|\n",
      "|             COELBA|128479.65999999939|\n",
      "|              DEMEI|2610.0099999999998|\n",
      "|             CERVAM| 78.74000000000001|\n",
      "|           CERMOFUL|            325.02|\n",
      "|                EMS| 89172.19999999942|\n",
      "|              CERAL| 93.47999999999999|\n",
      "+-------------------+------------------+\n",
      "only showing top 20 rows\n",
      "\n"
     ]
    },
    {
     "name": "stderr",
     "output_type": "stream",
     "text": [
      "\r",
      "                                                                                \r"
     ]
    }
   ],
   "source": [
    "empreendimentos_filtrado = empreendimentos_gd.filter(empreendimentos_gd[8] == 'Residencial')\n",
    "empreendimentos_select = empreendimentos_filtrado.select(empreendimentos_filtrado['5'],empreendimentos_filtrado['29'])\n",
    "empreendimentos_agrupado = empreendimentos_select.groupBy('5').sum()\n",
    "empreendimentos_agrupado.show()"
   ]
  },
  {
   "cell_type": "code",
   "execution_count": 16,
   "id": "3c9af0a5",
   "metadata": {},
   "outputs": [
    {
     "data": {
      "text/html": [
       "<div>\n",
       "<style scoped>\n",
       "    .dataframe tbody tr th:only-of-type {\n",
       "        vertical-align: middle;\n",
       "    }\n",
       "\n",
       "    .dataframe tbody tr th {\n",
       "        vertical-align: top;\n",
       "    }\n",
       "\n",
       "    .dataframe thead th {\n",
       "        text-align: right;\n",
       "    }\n",
       "</style>\n",
       "<table border=\"1\" class=\"dataframe\">\n",
       "  <thead>\n",
       "    <tr style=\"text-align: right;\">\n",
       "      <th></th>\n",
       "      <th>SigAgente</th>\n",
       "      <th>PotenciaInstaladaKW</th>\n",
       "      <th>VlrTotaTRFConvencional</th>\n",
       "    </tr>\n",
       "  </thead>\n",
       "  <tbody>\n",
       "    <tr>\n",
       "      <th>0</th>\n",
       "      <td>CHESP</td>\n",
       "      <td>1584.06</td>\n",
       "      <td>0.57639</td>\n",
       "    </tr>\n",
       "    <tr>\n",
       "      <th>1</th>\n",
       "      <td>COCEL</td>\n",
       "      <td>896.03</td>\n",
       "      <td>0.55712</td>\n",
       "    </tr>\n",
       "    <tr>\n",
       "      <th>2</th>\n",
       "      <td>CODESAM</td>\n",
       "      <td>31.92</td>\n",
       "      <td>0.38685</td>\n",
       "    </tr>\n",
       "    <tr>\n",
       "      <th>3</th>\n",
       "      <td>COELBA</td>\n",
       "      <td>128479.66</td>\n",
       "      <td>0.55213</td>\n",
       "    </tr>\n",
       "    <tr>\n",
       "      <th>4</th>\n",
       "      <td>COOPERA</td>\n",
       "      <td>313.98</td>\n",
       "      <td>0.38709</td>\n",
       "    </tr>\n",
       "  </tbody>\n",
       "</table>\n",
       "</div>"
      ],
      "text/plain": [
       "  SigAgente  PotenciaInstaladaKW  VlrTotaTRFConvencional\n",
       "0     CHESP              1584.06                 0.57639\n",
       "1     COCEL               896.03                 0.55712\n",
       "2   CODESAM                31.92                 0.38685\n",
       "3    COELBA            128479.66                 0.55213\n",
       "4   COOPERA               313.98                 0.38709"
      ]
     },
     "execution_count": 16,
     "metadata": {},
     "output_type": "execute_result"
    }
   ],
   "source": [
    "#cria dataframe\n",
    "lista = []\n",
    "for linha in tarifa_residencial_select.collect():\n",
    "    for linha1 in empreendimentos_agrupado.collect():\n",
    "        if linha[0].upper() == linha1[0].upper():\n",
    "            aux = (linha1[0],linha1[1],linha[1])\n",
    "            lista.append(aux)\n",
    "            \n",
    "df = pd.DataFrame(lista,columns = [\"SigAgente\", \"PotenciaInstaladaKW\", \"VlrTotaTRFConvencional\"])\n",
    "df.head()"
   ]
  },
  {
   "cell_type": "code",
   "execution_count": 17,
   "id": "a0ca3f6f",
   "metadata": {},
   "outputs": [
    {
     "data": {
      "text/html": [
       "<div>\n",
       "<style scoped>\n",
       "    .dataframe tbody tr th:only-of-type {\n",
       "        vertical-align: middle;\n",
       "    }\n",
       "\n",
       "    .dataframe tbody tr th {\n",
       "        vertical-align: top;\n",
       "    }\n",
       "\n",
       "    .dataframe thead th {\n",
       "        text-align: right;\n",
       "    }\n",
       "</style>\n",
       "<table border=\"1\" class=\"dataframe\">\n",
       "  <thead>\n",
       "    <tr style=\"text-align: right;\">\n",
       "      <th></th>\n",
       "      <th>SigAgente</th>\n",
       "      <th>PotenciaInstaladaKW</th>\n",
       "      <th>VlrTotaTRFConvencional</th>\n",
       "      <th>valorpormegawatt</th>\n",
       "    </tr>\n",
       "  </thead>\n",
       "  <tbody>\n",
       "    <tr>\n",
       "      <th>0</th>\n",
       "      <td>CHESP</td>\n",
       "      <td>1584.06</td>\n",
       "      <td>0.57639</td>\n",
       "      <td>0.913036</td>\n",
       "    </tr>\n",
       "    <tr>\n",
       "      <th>1</th>\n",
       "      <td>COCEL</td>\n",
       "      <td>896.03</td>\n",
       "      <td>0.55712</td>\n",
       "      <td>0.499196</td>\n",
       "    </tr>\n",
       "    <tr>\n",
       "      <th>2</th>\n",
       "      <td>CODESAM</td>\n",
       "      <td>31.92</td>\n",
       "      <td>0.38685</td>\n",
       "      <td>0.012348</td>\n",
       "    </tr>\n",
       "    <tr>\n",
       "      <th>3</th>\n",
       "      <td>COELBA</td>\n",
       "      <td>128479.66</td>\n",
       "      <td>0.55213</td>\n",
       "      <td>70.937475</td>\n",
       "    </tr>\n",
       "    <tr>\n",
       "      <th>4</th>\n",
       "      <td>COOPERA</td>\n",
       "      <td>313.98</td>\n",
       "      <td>0.38709</td>\n",
       "      <td>0.121539</td>\n",
       "    </tr>\n",
       "    <tr>\n",
       "      <th>...</th>\n",
       "      <td>...</td>\n",
       "      <td>...</td>\n",
       "      <td>...</td>\n",
       "      <td>...</td>\n",
       "    </tr>\n",
       "    <tr>\n",
       "      <th>80</th>\n",
       "      <td>CERTAJA</td>\n",
       "      <td>1241.86</td>\n",
       "      <td>0.61620</td>\n",
       "      <td>0.765234</td>\n",
       "    </tr>\n",
       "    <tr>\n",
       "      <th>81</th>\n",
       "      <td>CERTEL</td>\n",
       "      <td>5147.69</td>\n",
       "      <td>0.45866</td>\n",
       "      <td>2.361039</td>\n",
       "    </tr>\n",
       "    <tr>\n",
       "      <th>82</th>\n",
       "      <td>CERTHIL</td>\n",
       "      <td>176.88</td>\n",
       "      <td>0.52831</td>\n",
       "      <td>0.093447</td>\n",
       "    </tr>\n",
       "    <tr>\n",
       "      <th>83</th>\n",
       "      <td>CERVAM</td>\n",
       "      <td>78.74</td>\n",
       "      <td>0.66726</td>\n",
       "      <td>0.052540</td>\n",
       "    </tr>\n",
       "    <tr>\n",
       "      <th>84</th>\n",
       "      <td>CETRIL</td>\n",
       "      <td>1683.94</td>\n",
       "      <td>0.69710</td>\n",
       "      <td>1.173875</td>\n",
       "    </tr>\n",
       "  </tbody>\n",
       "</table>\n",
       "<p>85 rows × 4 columns</p>\n",
       "</div>"
      ],
      "text/plain": [
       "   SigAgente  PotenciaInstaladaKW  VlrTotaTRFConvencional  valorpormegawatt\n",
       "0      CHESP              1584.06                 0.57639          0.913036\n",
       "1      COCEL               896.03                 0.55712          0.499196\n",
       "2    CODESAM                31.92                 0.38685          0.012348\n",
       "3     COELBA            128479.66                 0.55213         70.937475\n",
       "4    COOPERA               313.98                 0.38709          0.121539\n",
       "..       ...                  ...                     ...               ...\n",
       "80   CERTAJA              1241.86                 0.61620          0.765234\n",
       "81    CERTEL              5147.69                 0.45866          2.361039\n",
       "82   CERTHIL               176.88                 0.52831          0.093447\n",
       "83    CERVAM                78.74                 0.66726          0.052540\n",
       "84    CETRIL              1683.94                 0.69710          1.173875\n",
       "\n",
       "[85 rows x 4 columns]"
      ]
     },
     "execution_count": 17,
     "metadata": {},
     "output_type": "execute_result"
    }
   ],
   "source": [
    "df['valorpormegawatt'] = (df['PotenciaInstaladaKW']/1000)*df['VlrTotaTRFConvencional']\n",
    "df"
   ]
  },
  {
   "cell_type": "code",
   "execution_count": 18,
   "id": "620443c6",
   "metadata": {
    "scrolled": false
   },
   "outputs": [
    {
     "data": {
      "text/plain": [
       "Text(0.5, 1.0, 'Gráfico de quanto cada distribuidor recebeu de tarifas por MW produzido na geração distribuida residencial em dez/21')"
      ]
     },
     "execution_count": 18,
     "metadata": {},
     "output_type": "execute_result"
    },
    {
     "data": {
      "image/png": "[encoded data removed]",
      "text/plain": [
       "<Figure size 1080x360 with 1 Axes>"
      ]
     },
     "metadata": {
      "needs_background": "light"
     },
     "output_type": "display_data"
    }
   ],
   "source": [
    "snsplt = sns.catplot( x=\"SigAgente\", y=\"valorpormegawatt\", kind=\"bar\", data=df,aspect=30/10)\n",
    "plt.xticks(rotation=90)\n",
    "plt.xlabel(\"Distribuidora\", fontsize=11)\n",
    "plt.ylabel(\"Valor por MW (R$)\", fontsize=11)\n",
    "plt.yscale(\"log\")\n",
    "plt.title(\"Gráfico de quanto cada distribuidor recebeu de tarifas por MW produzido na geração distribuida residencial em dez/21\")"
   ]
  },
  {
   "cell_type": "code",
   "execution_count": 19,
   "id": "d9fec6c5",
   "metadata": {},
   "outputs": [
    {
     "name": "stdout",
     "output_type": "stream",
     "text": [
      "+---+------+\n",
      "| 26| count|\n",
      "+---+------+\n",
      "|CGH|    73|\n",
      "|UTE|   365|\n",
      "|UFV|702928|\n",
      "|EOL|    81|\n",
      "+---+------+\n",
      "\n"
     ]
    }
   ],
   "source": [
    "empreendimentos_agrupadoBR = empreendimentos_gd.groupBy('26').count()\n",
    "empreendimentos_agrupadoBR.show()\n",
    "empreendimentos_agrupadoBR = empreendimentos_agrupadoBR.toPandas()\n",
    "#contagem de total de usinas mais utilizadas por fonte energética no país"
   ]
  },
  {
   "cell_type": "code",
   "execution_count": 20,
   "id": "b1fcd0f5",
   "metadata": {},
   "outputs": [
    {
     "data": {
      "text/plain": [
       "Text(0.5, 1.0, 'Total de usinas no país por fonte energética')"
      ]
     },
     "execution_count": 20,
     "metadata": {},
     "output_type": "execute_result"
    },
    {
     "data": {
      "image/png": "[encoded data removed]",
      "text/plain": [
       "<Figure size 360x360 with 1 Axes>"
      ]
     },
     "metadata": {
      "needs_background": "light"
     },
     "output_type": "display_data"
    }
   ],
   "source": [
    "snsplt = sns.catplot( x=\"26\", y=\"count\", kind=\"bar\", data=empreendimentos_agrupadoBR, legend=True,palette=[\"#2a52be\", \"#d62d20\", \"#00ad43\",\"#ff9f00\"] )\n",
    "#plt.ylim(0,150)\n",
    "plt.yscale(\"log\")\n",
    "plt.xlabel(\"Fonte energética\", fontsize=14)\n",
    "plt.ylabel(\"Quantidade de usinas\", fontsize=14)\n",
    "plt.title(\"Total de usinas no país por fonte energética\", fontsize=14)\n",
    "#snsplt.fig.set_size_inches(11,4)\n"
   ]
  },
  {
   "cell_type": "code",
   "execution_count": 21,
   "id": "09c5b0e9",
   "metadata": {
    "scrolled": false
   },
   "outputs": [
    {
     "name": "stdout",
     "output_type": "stream",
     "text": [
      "+------------+----------------+------+\n",
      "|      Região|Fonte Enérgetica| count|\n",
      "+------------+----------------+------+\n",
      "|       Norte|             UFV| 36110|\n",
      "|Centro Oeste|             CGH|     4|\n",
      "|    Nordeste|             UTE|    13|\n",
      "|    Nordeste|             EOL|    39|\n",
      "|    Nordeste|             UFV|127945|\n",
      "|         Sul|             UFV|157078|\n",
      "|Centro Oeste|             UTE|    67|\n",
      "|         Sul|             EOL|    27|\n",
      "|         Sul|             CGH|    14|\n",
      "|     Sudeste|             UFV|284075|\n",
      "|         Sul|             UTE|    80|\n",
      "|Centro Oeste|             UFV| 97720|\n",
      "|       Norte|             EOL|     4|\n",
      "|     Sudeste|             CGH|    50|\n",
      "|     Sudeste|             UTE|   202|\n",
      "|    Nordeste|             CGH|     1|\n",
      "|     Sudeste|             EOL|    11|\n",
      "|       Norte|             CGH|     4|\n",
      "|       Norte|             UTE|     3|\n",
      "+------------+----------------+------+\n",
      "\n"
     ]
    }
   ],
   "source": [
    "empreendimentos_agrupadoRG = empreendimentos_gd.groupBy('14','26').count()\n",
    "empreendimentos_agrupadoRG = empreendimentos_agrupadoRG.withColumnRenamed(\"14\",\"Região\").withColumnRenamed(\"26\",\"Fonte Enérgetica\")\n",
    "empreendimentos_agrupadoRG.show()\n",
    "empreendimentos_agrupadoRG = empreendimentos_agrupadoRG.toPandas()\n",
    "#contagem de total de usinas mais utilizadas por fonte energética por estado"
   ]
  },
  {
   "cell_type": "code",
   "execution_count": 22,
   "id": "b1301b50",
   "metadata": {},
   "outputs": [
    {
     "data": {
      "text/plain": [
       "<matplotlib.legend.Legend at 0x7f4e501efb80>"
      ]
     },
     "execution_count": 22,
     "metadata": {},
     "output_type": "execute_result"
    },
    {
     "data": {
      "image/png": "[encoded data removed]",
      "text/plain": [
       "<Figure size 792x288 with 1 Axes>"
      ]
     },
     "metadata": {
      "needs_background": "light"
     },
     "output_type": "display_data"
    }
   ],
   "source": [
    "snsplt = sns.catplot( x=\"Região\", y=\"count\", kind=\"bar\", data=empreendimentos_agrupadoRG, legend=True, hue=\"Fonte Enérgetica\",hue_order=['UFV','CGH','UTE','EOL'],palette=[\"#00ad43\", \"#2a52be\", \"#d62d20\",\"#ff9f00\"])\n",
    "#plt.ylim(0,150)\n",
    "plt.yscale(\"log\")\n",
    "plt.xlabel(\"Região\", fontsize=14)\n",
    "plt.ylabel(\"Quantidade de usinas\", fontsize=14)\n",
    "plt.title(\"Total de usinas por fonte energética e por região\", fontsize=14)\n",
    "snsplt.fig.set_size_inches(11,4)\n",
    "leg = snsplt._legend\n",
    "leg.set_frame_on(True)\n",
    "order = [0,1,2,3]\n",
    "handles, labels = snsplt.ax.get_legend_handles_labels()\n",
    "snsplt.ax.legend([handles[idx] for idx in order],[labels[idx] for idx in order], bbox_to_anchor = (0.87,1), title=\"Fonte Energética\")"
   ]
  },
  {
   "cell_type": "code",
   "execution_count": 23,
   "id": "f2659615",
   "metadata": {},
   "outputs": [
    {
     "name": "stdout",
     "output_type": "stream",
     "text": [
      "+------+----------------+------+\n",
      "|Estado|Fonte Enérgetica| count|\n",
      "+------+----------------+------+\n",
      "|    AL|             UFV|  4461|\n",
      "|    CE|             UFV| 21796|\n",
      "|    RN|             EOL|     7|\n",
      "|    MT|             UTE|    35|\n",
      "|    PA|             UFV| 16089|\n",
      "|    MT|             UFV| 41627|\n",
      "|    GO|             UFV| 30114|\n",
      "|    BA|             UTE|     4|\n",
      "|    MG|             CGH|    41|\n",
      "|    ES|             CGH|     1|\n",
      "|    ES|             UFV| 11202|\n",
      "|    DF|             UTE|     2|\n",
      "|    MS|             UFV| 21372|\n",
      "|    AM|             UFV|  2829|\n",
      "|    RS|             UTE|    18|\n",
      "|    ES|             UTE|     7|\n",
      "|    PB|             UFV| 11069|\n",
      "|    RJ|             UFV| 37047|\n",
      "|    PR|             UTE|    19|\n",
      "|    RS|             EOL|     8|\n",
      "|    GO|             CGH|     1|\n",
      "|    RJ|             EOL|     1|\n",
      "|    PR|             EOL|     5|\n",
      "|    GO|             UTE|    18|\n",
      "|    SP|             CGH|     4|\n",
      "|    SC|             UFV| 22961|\n",
      "|    AP|             UFV|   760|\n",
      "|    AC|             UFV|  1281|\n",
      "|    PR|             UFV| 34969|\n",
      "|    PE|             EOL|     2|\n",
      "|    PR|             CGH|     3|\n",
      "|    SP|             UFV|113088|\n",
      "|    RO|             UFV|  6642|\n",
      "|    SE|             UFV|  3876|\n",
      "|    SC|             EOL|    14|\n",
      "|    DF|             UFV|  4607|\n",
      "|    MG|             UTE|   168|\n",
      "|    SC|             UTE|    43|\n",
      "|    MG|             UFV|122738|\n",
      "|    RS|             CGH|     4|\n",
      "|    RS|             UFV| 99148|\n",
      "|    SP|             EOL|     6|\n",
      "|    AL|             UTE|     1|\n",
      "|    TO|             UTE|     2|\n",
      "|    RJ|             CGH|     4|\n",
      "|    PE|             UTE|     4|\n",
      "|    MS|             CGH|     3|\n",
      "|    ES|             EOL|     4|\n",
      "|    RJ|             UTE|     8|\n",
      "|    PB|             EOL|     1|\n",
      "|    SC|             CGH|     7|\n",
      "|    CE|             EOL|    27|\n",
      "|    SP|             UTE|    19|\n",
      "|    PE|             CGH|     1|\n",
      "|    RN|             UFV| 16214|\n",
      "|    PI|             UFV| 11926|\n",
      "|    MA|             UFV| 13454|\n",
      "|    TO|             UFV|  8150|\n",
      "|    MS|             UTE|    12|\n",
      "|    PE|             UFV| 17616|\n",
      "|    BA|             UFV| 27533|\n",
      "|    MA|             UTE|     3|\n",
      "|    CE|             UTE|     1|\n",
      "|    RO|             CGH|     4|\n",
      "|    PA|             EOL|     4|\n",
      "|    RR|             UFV|   359|\n",
      "|    RO|             UTE|     1|\n",
      "|    BA|             EOL|     2|\n",
      "+------+----------------+------+\n",
      "\n"
     ]
    }
   ],
   "source": [
    "empreendimentos_agrupadoUF = empreendimentos_gd.groupBy('12','26').count()\n",
    "empreendimentos_agrupadoUF = empreendimentos_agrupadoUF.withColumnRenamed(\"12\",\"Estado\").withColumnRenamed(\"26\",\"Fonte Enérgetica\")\n",
    "empreendimentos_agrupadoUF.show(140)\n",
    "empreendimentos_agrupadoUF = empreendimentos_agrupadoUF.toPandas()\n",
    "#contagem de total de usinas mais utilizadas por fonte energética por região"
   ]
  },
  {
   "cell_type": "code",
   "execution_count": 24,
   "id": "32507c4c",
   "metadata": {},
   "outputs": [
    {
     "data": {
      "text/plain": [
       "<matplotlib.legend.Legend at 0x7f4e437dba90>"
      ]
     },
     "execution_count": 24,
     "metadata": {},
     "output_type": "execute_result"
    },
    {
     "data": {
      "image/png": "[encoded data removed]",
      "text/plain": [
       "<Figure size 2160x720 with 1 Axes>"
      ]
     },
     "metadata": {
      "needs_background": "light"
     },
     "output_type": "display_data"
    }
   ],
   "source": [
    "snsplt = sns.catplot( x=\"Estado\", y=\"count\", kind=\"bar\", data=empreendimentos_agrupadoUF, legend=True, hue=\"Fonte Enérgetica\")\n",
    "# plt.ylim(0,50)\n",
    "plt.yscale(\"log\")\n",
    "plt.xlabel(\"Estado\", fontsize=14)\n",
    "plt.ylabel(\"Quantidade de usinas\", fontsize=14)\n",
    "plt.title(\"Contagem de total de usinas mais utilizadas por fonte energética por estado\", fontsize=14)\n",
    "snsplt.fig.set_size_inches(30,10)\n",
    "leg = snsplt._legend\n",
    "leg.set_frame_on(True)\n",
    "order = [3,2, 1, 0]\n",
    "handles, labels = snsplt.ax.get_legend_handles_labels()\n",
    "snsplt.ax.legend([handles[idx] for idx in order],[labels[idx] for idx in order],\n",
    "                 loc=\"upper left\", title=\"Legenda\")"
   ]
  },
  {
   "cell_type": "code",
   "execution_count": 25,
   "id": "0b822f1e",
   "metadata": {},
   "outputs": [
    {
     "name": "stdout",
     "output_type": "stream",
     "text": [
      "+---+------------+------+-------+-------------+-------+------------------+------------------+------------------+\n",
      "| 26|      sum(0)|sum(7)| sum(9)|      sum(15)|sum(25)|     Potência (KW)|           sum(30)|           sum(31)|\n",
      "+---+------------+------+-------+-------------+-------+------------------+------------------+------------------+\n",
      "|CGH|    28981919|   190|    549|    245093437|  16939|          66851.07|          -1314.15|          -2933.08|\n",
      "|UTE|   145859019|  1083|   3013|   1362664926|   6559|         112741.13|-804.4000000000001|          -2126.71|\n",
      "|UFV|247210561954|955416|6565460|2484696411040| 880609| 7818447.810001476|-759437.8699999838|-2232286.330000018|\n",
      "|EOL|    33789736|   164|    753|    249912062|    147|15007.099999999999|           -133.22|           -277.03|\n",
      "+---+------------+------+-------+-------------+-------+------------------+------------------+------------------+\n",
      "\n"
     ]
    }
   ],
   "source": [
    "empreendimentos_agrupadoPotenciaBR = empreendimentos_gd.groupBy('26').sum()\n",
    "empreendimentos_agrupadoPotenciaBR = empreendimentos_agrupadoPotenciaBR.withColumnRenamed(\"sum(29)\",\"Potência (KW)\")\n",
    "empreendimentos_agrupadoPotenciaBR.show()\n",
    "empreendimentos_agrupadoPotenciaBR = empreendimentos_agrupadoPotenciaBR.toPandas()\n",
    "#potencia de energia gerada por cada fonte energética no país"
   ]
  },
  {
   "cell_type": "code",
   "execution_count": 26,
   "id": "3bd58b17",
   "metadata": {},
   "outputs": [
    {
     "name": "stdout",
     "output_type": "stream",
     "text": [
      "+------------+---+------------+------+-------+------------+-------+------------------+-------------------+-------------------+\n",
      "|      Região| 26|      sum(0)|sum(7)| sum(9)|     sum(15)|sum(25)|     Potência (KW)|            sum(30)|            sum(31)|\n",
      "+------------+---+------------+------+-------+------------+-------+------------------+-------------------+-------------------+\n",
      "|       Norte|UFV| 11726267545| 44463| 335275| 52421621098|  42620| 432364.8600000026|-12039.979999999987|-146442.08000000007|\n",
      "|    Nordeste|UTE|     5179107|    31|     95|    33445549|   1304|            9877.5|             -53.56|            -237.03|\n",
      "|    Nordeste|EOL|    17149237|    68|    358|    92632606|    103|14721.060000000001|              -3.96|             -38.33|\n",
      "|    Nordeste|UFV| 54163926439|166274|1196332|320952452595| 170999| 1518051.119999962| -74558.01999999986|         -397598.02|\n",
      "|Centro Oeste|CGH|     2290319|    12|     27|    20215719|     63|            2460.0| -53.97999999999999|            -157.57|\n",
      "|         Sul|UFV| 40423688752|231433|1475285|668084682797| 196949|1665881.9299999392|-219666.20000000295|-483580.60000000685|\n",
      "|Centro Oeste|UTE|    17036243|   202|    467|   343257173|    113|          27940.88|-114.46000000000001|            -373.29|\n",
      "|         Sul|EOL|    10803947|    61|    248|   114009109|     29|             160.3|-109.77000000000001|             -151.0|\n",
      "|         Sul|CGH|     5533177|    39|    122|    59060277|    150|            6175.2|-268.21000000000004|            -509.15|\n",
      "|     Sudeste|UFV|117180776114|378841|2646582|942442372891| 351241|2883332.0499998685|-349513.81999999797| -820336.7600000021|\n",
      "|         Sul|UTE|    33541808|   251|    669|   336827481|    519|22333.270000000004|            -268.82| -559.8599999999999|\n",
      "|Centro Oeste|UFV| 23715903104|134405| 911986|500795281659| 118800|1318817.8499999866| -103659.8499999991| -384328.8699999978|\n",
      "|       Norte|EOL|      766991|     7|     38|     6018544|      4|              9.34|               1.18|             -47.18|\n",
      "|     Sudeste|CGH|    19999047|   125|    369|   158799825|  16681|          50984.97| -932.3300000000002|           -1985.56|\n",
      "|     Sudeste|UTE|    88751793|   591|   1759|   644614807|   4608| 50480.48000000001|-367.56000000000006| -956.5300000000001|\n",
      "|    Nordeste|CGH|      362908|     4|      7|     2616506|      3|             230.0|              -8.83|             -35.66|\n",
      "|     Sudeste|EOL|     5069561|    28|    109|    37251803|     11|             116.4|             -20.67|             -40.52|\n",
      "|       Norte|CGH|      796468|    10|     24|     4401110|     42|            7000.9|-50.800000000000004|            -245.14|\n",
      "|       Norte|UTE|     1350068|     8|     23|     4519916|     15|            2109.0|                0.0|                0.0|\n",
      "+------------+---+------------+------+-------+------------+-------+------------------+-------------------+-------------------+\n",
      "\n"
     ]
    }
   ],
   "source": [
    "empreendimentos_agrupadoPotenciaRG = empreendimentos_gd.groupBy('14','26').sum()\n",
    "empreendimentos_agrupadoPotenciaRG = empreendimentos_agrupadoPotenciaRG.withColumnRenamed(\"14\",\"Região\").withColumnRenamed(\"sum(29)\",\"Potência (KW)\")\n",
    "empreendimentos_agrupadoPotenciaRG.show()\n",
    "empreendimentos_agrupadoPotenciaRG = empreendimentos_agrupadoPotenciaRG.toPandas()\n",
    "#potencia de energia gerada por cada fonte energética por região"
   ]
  },
  {
   "cell_type": "code",
   "execution_count": null,
   "id": "4678fb6e",
   "metadata": {},
   "outputs": [],
   "source": []
  },
  {
   "cell_type": "code",
   "execution_count": null,
   "id": "ebe8a7c3",
   "metadata": {},
   "outputs": [],
   "source": []
  },
  {
   "cell_type": "code",
   "execution_count": null,
   "id": "88234c13",
   "metadata": {},
   "outputs": [],
   "source": []
  },
  {
   "cell_type": "code",
   "execution_count": null,
   "id": "2584e78b",
   "metadata": {},
   "outputs": [],
   "source": []
  },
  {
   "cell_type": "code",
   "execution_count": null,
   "id": "66d9099d",
   "metadata": {},
   "outputs": [],
   "source": []
  }
 ],
 "metadata": {
  "kernelspec": {
   "display_name": "Python 3",
   "language": "python",
   "name": "python3"
  },
  "language_info": {
   "codemirror_mode": {
    "name": "ipython",
    "version": 3
   },
   "file_extension": ".py",
   "mimetype": "text/x-python",
   "name": "python",
   "nbconvert_exporter": "python",
   "pygments_lexer": "ipython3",
   "version": "3.8.12"
  }
 },
 "nbformat": 4,
 "nbformat_minor": 5
}